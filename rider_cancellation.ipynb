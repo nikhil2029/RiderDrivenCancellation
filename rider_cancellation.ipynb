{
  "nbformat": 4,
  "nbformat_minor": 0,
  "metadata": {
    "colab": {
      "name": "rider_cancellation.ipynb",
      "provenance": [],
      "collapsed_sections": []
    },
    "kernelspec": {
      "name": "python3",
      "display_name": "Python 3"
    },
    "language_info": {
      "name": "python"
    }
  },
  "cells": [
    {
      "cell_type": "code",
      "execution_count": null,
      "metadata": {
        "colab": {
          "base_uri": "https://localhost:8080/"
        },
        "id": "PME5p1PvWR4T",
        "outputId": "3c0fc514-0c4b-4244-d345-700b359fecd1"
      },
      "outputs": [
        {
          "output_type": "stream",
          "name": "stdout",
          "text": [
            "Requirement already satisfied: kaggle in /usr/local/lib/python3.7/dist-packages (1.5.12)\n",
            "Requirement already satisfied: urllib3 in /usr/local/lib/python3.7/dist-packages (from kaggle) (1.24.3)\n",
            "Requirement already satisfied: certifi in /usr/local/lib/python3.7/dist-packages (from kaggle) (2021.10.8)\n",
            "Requirement already satisfied: requests in /usr/local/lib/python3.7/dist-packages (from kaggle) (2.23.0)\n",
            "Requirement already satisfied: python-slugify in /usr/local/lib/python3.7/dist-packages (from kaggle) (5.0.2)\n",
            "Requirement already satisfied: tqdm in /usr/local/lib/python3.7/dist-packages (from kaggle) (4.62.3)\n",
            "Requirement already satisfied: python-dateutil in /usr/local/lib/python3.7/dist-packages (from kaggle) (2.8.2)\n",
            "Requirement already satisfied: six>=1.10 in /usr/local/lib/python3.7/dist-packages (from kaggle) (1.15.0)\n",
            "Requirement already satisfied: text-unidecode>=1.3 in /usr/local/lib/python3.7/dist-packages (from python-slugify->kaggle) (1.3)\n",
            "Requirement already satisfied: chardet<4,>=3.0.2 in /usr/local/lib/python3.7/dist-packages (from requests->kaggle) (3.0.4)\n",
            "Requirement already satisfied: idna<3,>=2.5 in /usr/local/lib/python3.7/dist-packages (from requests->kaggle) (2.10)\n"
          ]
        }
      ],
      "source": [
        "! pip install kaggle"
      ]
    },
    {
      "cell_type": "code",
      "source": [
        "! mkdir ~/.kaggle"
      ],
      "metadata": {
        "id": "5ux7yHiEXI8t"
      },
      "execution_count": null,
      "outputs": []
    },
    {
      "cell_type": "code",
      "source": [
        "! cp kaggle.json ~/.kaggle/"
      ],
      "metadata": {
        "id": "Z3HWl7JnXSuZ"
      },
      "execution_count": null,
      "outputs": []
    },
    {
      "cell_type": "code",
      "source": [
        "! chmod 600 ~/.kaggle/kaggle.json"
      ],
      "metadata": {
        "id": "bivmoVPXXYnS"
      },
      "execution_count": null,
      "outputs": []
    },
    {
      "cell_type": "code",
      "source": [
        "! kaggle competitions download -c cascade-cup-22"
      ],
      "metadata": {
        "colab": {
          "base_uri": "https://localhost:8080/"
        },
        "id": "2YJxfJsGXaVC",
        "outputId": "44d500ec-f2d7-4121-d7b3-29f435fca8f3"
      },
      "execution_count": null,
      "outputs": [
        {
          "output_type": "stream",
          "name": "stdout",
          "text": [
            "Warning: Looks like you're using an outdated API Version, please consider updating (server 1.5.12 / client 1.5.4)\n",
            "Downloading train.csv.zip to /content\n",
            " 53% 9.00M/16.9M [00:00<00:00, 83.6MB/s]\n",
            "100% 16.9M/16.9M [00:00<00:00, 82.0MB/s]\n",
            "Downloading sample_submission.csv.zip to /content\n",
            "  0% 0.00/317k [00:00<?, ?B/s]\n",
            "100% 317k/317k [00:00<00:00, 10.2MB/s]\n",
            "Downloading test.csv.zip to /content\n",
            "  0% 0.00/4.31M [00:00<?, ?B/s]\n",
            "100% 4.31M/4.31M [00:00<00:00, 39.5MB/s]\n"
          ]
        }
      ]
    },
    {
      "cell_type": "code",
      "source": [
        "! unzip \"/content/sample_submission.csv.zip\"\n",
        "! unzip \"/content/test.csv.zip\"\n",
        "! unzip \"/content/train.csv.zip\""
      ],
      "metadata": {
        "colab": {
          "base_uri": "https://localhost:8080/"
        },
        "id": "4ez-tGz9X2sB",
        "outputId": "a291882a-164e-4420-a8bc-0dba31741585"
      },
      "execution_count": null,
      "outputs": [
        {
          "output_type": "stream",
          "name": "stdout",
          "text": [
            "Archive:  /content/sample_submission.csv.zip\n",
            "  inflating: sample_submission.csv   \n",
            "Archive:  /content/test.csv.zip\n",
            "  inflating: test.csv                \n",
            "Archive:  /content/train.csv.zip\n",
            "  inflating: train.csv               \n"
          ]
        }
      ]
    },
    {
      "cell_type": "code",
      "source": [
        "import numpy as np\n",
        "import pandas as pd\n",
        "import matplotlib.pyplot as plt\n",
        "import seaborn as sns\n",
        "from sklearn.preprocessing import StandardScaler\n",
        "from sklearn.model_selection import train_test_split\n",
        "from sklearn.linear_model import LogisticRegression\n",
        "from sklearn.ensemble import RandomForestClassifier\n",
        "from sklearn.tree import DecisionTreeClassifier\n",
        "from sklearn.neighbors import KNeighborsClassifier\n",
        "from imblearn.over_sampling import RandomOverSampler\n",
        "from xgboost import XGBClassifier"
      ],
      "metadata": {
        "id": "fv72vAOsYbup"
      },
      "execution_count": null,
      "outputs": []
    },
    {
      "cell_type": "code",
      "source": [
        "train_data=pd.read_csv(\"/content/train.csv\")\n",
        "train_data['accept_time']=pd.to_datetime(train_data.accept_time)\n",
        "train_data['order_time']=pd.to_datetime(train_data.order_time)\n",
        "train_data['order_date']=pd.to_datetime(train_data.order_date)\n",
        "train_data['allot_time']=pd.to_datetime(train_data.allot_time)\n",
        "train_data['accept_time']=train_data.accept_time.dt.minute+(train_data.accept_time.dt.hour*60)\n",
        "train_data['order_time']=train_data.order_time.dt.minute+(train_data.order_time.dt.hour*60)\n",
        "train_data['allot_time']=train_data.allot_time.dt.minute+(train_data.allot_time.dt.hour*60)\n",
        "train_data['order_date']=train_data.order_date.dt.dayofyear\n",
        "a=train_data['accept_time']\n",
        "b=train_data['order_time']\n",
        "c=train_data['allot_time']\n",
        "train_data['diff1']=abs(a-b)\n",
        "train_data['diff2']=abs(c-b)\n",
        "train_data['diff3']=abs(c-b)\n",
        "train_data['total_distance']=train_data['first_mile_distance']+train_data['last_mile_distance']\n",
        "train_data1=train_data.copy()\n",
        "train_data=train_data.drop(['accept_time','order_time','allot_time','pickup_time','reassigned_order','first_mile_distance','last_mile_distance','order_date','order_id','lifetime_order_count'],axis=1)\n",
        "train_data = train_data.sort_values(by = 'rider_id')"
      ],
      "metadata": {
        "id": "JOmrDreuZC5h"
      },
      "execution_count": null,
      "outputs": []
    },
    {
      "cell_type": "code",
      "source": [
        "correlation=train_data.corr()\n",
        "print(correlation['cancelled'].sort_values())"
      ],
      "metadata": {
        "colab": {
          "base_uri": "https://localhost:8080/"
        },
        "id": "4Lo2eG4U-9XR",
        "outputId": "9308854f-1183-4ec1-a970-05e18db6e859"
      },
      "execution_count": null,
      "outputs": [
        {
          "output_type": "stream",
          "name": "stdout",
          "text": [
            "alloted_orders       -0.034491\n",
            "delivered_orders     -0.030220\n",
            "session_time         -0.019963\n",
            "undelivered_orders    0.007417\n",
            "total_distance        0.020063\n",
            "rider_id              0.058096\n",
            "diff1                 0.138632\n",
            "diff2                 0.147037\n",
            "diff3                 0.147037\n",
            "cancelled             1.000000\n",
            "Name: cancelled, dtype: float64\n"
          ]
        }
      ]
    },
    {
      "cell_type": "code",
      "source": [
        "def preprocessing_inputs(df):\n",
        "  df=df.copy()\n",
        "  missing_columns = df.loc[:, df.isna().mean() >= 0.25].columns\n",
        "  df = df.drop(missing_columns, axis=1)\n",
        "  x={column:type(df[column][0]) for column in df.columns}\n",
        "  rem_col=[]\n",
        "  for i in x.keys():\n",
        "    if(x[i]==type('str')):\n",
        "      rem_col.append(i)\n",
        "  df=df.drop(rem_col,axis=1)\n",
        "  rna = df.loc[:, df.isna().sum() > 0].columns\n",
        "  for y in rna:\n",
        "    df[y] = df[y].fillna(df[y].mean())\n",
        "  y=df['cancelled'].copy()\n",
        "  x=df.drop('cancelled',axis=1).copy()\n",
        "  x_train, x_test, y_train, y_test = train_test_split(x, y, train_size=0.7, random_state=123)\n",
        "  ros = RandomOverSampler(random_state=42)\n",
        "  x_train, y_train = ros.fit_resample(x_train, y_train)\n",
        "  scaler = StandardScaler()\n",
        "  scaler.fit(x_train)\n",
        "  x_train = pd.DataFrame(scaler.transform(x_train), columns=x.columns)\n",
        "  x_test = pd.DataFrame(scaler.transform(x_test), columns=x.columns)\n",
        "  return x_train,y_train,x_test,y_test\n"
      ],
      "metadata": {
        "id": "tnOrIqoBZ7QQ"
      },
      "execution_count": null,
      "outputs": []
    },
    {
      "cell_type": "code",
      "source": [
        "x_train,y_train,x_test,y_test=preprocessing_inputs(train_data)"
      ],
      "metadata": {
        "id": "PI4eGw91aKGZ"
      },
      "execution_count": null,
      "outputs": []
    },
    {
      "cell_type": "code",
      "source": [
        "x_train.shape,y_train.shape"
      ],
      "metadata": {
        "colab": {
          "base_uri": "https://localhost:8080/"
        },
        "id": "5ioh2DMfJTjd",
        "outputId": "d7842263-76cd-47ce-c19e-cbcbe68ab2cc"
      },
      "execution_count": null,
      "outputs": [
        {
          "output_type": "execute_result",
          "data": {
            "text/plain": [
              "((622630, 9), (622630,))"
            ]
          },
          "metadata": {},
          "execution_count": 44
        }
      ]
    },
    {
      "cell_type": "code",
      "source": [
        "model=LogisticRegression()\n",
        "model.fit(x_train,y_train)"
      ],
      "metadata": {
        "colab": {
          "base_uri": "https://localhost:8080/"
        },
        "id": "pBUckCQBaZLw",
        "outputId": "672202bc-849c-40fc-ef93-d6e6c38085ca"
      },
      "execution_count": null,
      "outputs": [
        {
          "output_type": "execute_result",
          "data": {
            "text/plain": [
              "LogisticRegression()"
            ]
          },
          "metadata": {},
          "execution_count": 25
        }
      ]
    },
    {
      "cell_type": "code",
      "source": [
        "from lightgbm import LGBMClassifier\n",
        "model1 = LGBMClassifier()\n",
        "model1.fit(x_train, y_train)"
      ],
      "metadata": {
        "colab": {
          "base_uri": "https://localhost:8080/"
        },
        "id": "UbL0GjSSLY-d",
        "outputId": "017dc909-0f7a-4be4-ad10-651046c50cf7"
      },
      "execution_count": null,
      "outputs": [
        {
          "output_type": "execute_result",
          "data": {
            "text/plain": [
              "LGBMClassifier()"
            ]
          },
          "metadata": {},
          "execution_count": 59
        }
      ]
    },
    {
      "cell_type": "code",
      "source": [
        "!pip install catboost"
      ],
      "metadata": {
        "colab": {
          "base_uri": "https://localhost:8080/"
        },
        "id": "1qf8p3qTF5yo",
        "outputId": "866ec4f8-8cda-493e-f662-d7cefeb9b257"
      },
      "execution_count": null,
      "outputs": [
        {
          "output_type": "stream",
          "name": "stdout",
          "text": [
            "Collecting catboost\n",
            "  Downloading catboost-1.0.4-cp37-none-manylinux1_x86_64.whl (76.1 MB)\n",
            "\u001b[K     |████████████████████████████████| 76.1 MB 1.2 MB/s \n",
            "\u001b[?25hRequirement already satisfied: plotly in /usr/local/lib/python3.7/dist-packages (from catboost) (5.5.0)\n",
            "Requirement already satisfied: scipy in /usr/local/lib/python3.7/dist-packages (from catboost) (1.4.1)\n",
            "Requirement already satisfied: pandas>=0.24.0 in /usr/local/lib/python3.7/dist-packages (from catboost) (1.3.5)\n",
            "Requirement already satisfied: six in /usr/local/lib/python3.7/dist-packages (from catboost) (1.15.0)\n",
            "Requirement already satisfied: graphviz in /usr/local/lib/python3.7/dist-packages (from catboost) (0.10.1)\n",
            "Requirement already satisfied: numpy>=1.16.0 in /usr/local/lib/python3.7/dist-packages (from catboost) (1.19.5)\n",
            "Requirement already satisfied: matplotlib in /usr/local/lib/python3.7/dist-packages (from catboost) (3.2.2)\n",
            "Requirement already satisfied: pytz>=2017.3 in /usr/local/lib/python3.7/dist-packages (from pandas>=0.24.0->catboost) (2018.9)\n",
            "Requirement already satisfied: python-dateutil>=2.7.3 in /usr/local/lib/python3.7/dist-packages (from pandas>=0.24.0->catboost) (2.8.2)\n",
            "Requirement already satisfied: pyparsing!=2.0.4,!=2.1.2,!=2.1.6,>=2.0.1 in /usr/local/lib/python3.7/dist-packages (from matplotlib->catboost) (3.0.7)\n",
            "Requirement already satisfied: cycler>=0.10 in /usr/local/lib/python3.7/dist-packages (from matplotlib->catboost) (0.11.0)\n",
            "Requirement already satisfied: kiwisolver>=1.0.1 in /usr/local/lib/python3.7/dist-packages (from matplotlib->catboost) (1.3.2)\n",
            "Requirement already satisfied: tenacity>=6.2.0 in /usr/local/lib/python3.7/dist-packages (from plotly->catboost) (8.0.1)\n",
            "Installing collected packages: catboost\n",
            "Successfully installed catboost-1.0.4\n"
          ]
        }
      ]
    },
    {
      "cell_type": "code",
      "source": [
        "model = XGBClassifier()\n",
        "model.fit(x_train, y_train)"
      ],
      "metadata": {
        "colab": {
          "base_uri": "https://localhost:8080/"
        },
        "id": "IYpuzL4oLdc9",
        "outputId": "27930706-2b3f-48ec-f9a1-437945f2bb1a"
      },
      "execution_count": null,
      "outputs": [
        {
          "output_type": "execute_result",
          "data": {
            "text/plain": [
              "XGBClassifier()"
            ]
          },
          "metadata": {},
          "execution_count": 45
        }
      ]
    },
    {
      "cell_type": "code",
      "source": [
        "model3=KNeighborsClassifier(n_neighbors=5)\n",
        "model3.fit(x_train,y_train)"
      ],
      "metadata": {
        "colab": {
          "base_uri": "https://localhost:8080/"
        },
        "id": "QL7pKCLWMPqd",
        "outputId": "8f73bc36-b847-4ea6-de74-c4b4d7eca016"
      },
      "execution_count": null,
      "outputs": [
        {
          "output_type": "execute_result",
          "data": {
            "text/plain": [
              "KNeighborsClassifier()"
            ]
          },
          "metadata": {},
          "execution_count": 30
        }
      ]
    },
    {
      "cell_type": "code",
      "source": [
        "model_acc = model.score(x_test, y_test)\n",
        "print(\"Test Accuracy: {:.2f}%\".format(model_acc * 100))"
      ],
      "metadata": {
        "colab": {
          "base_uri": "https://localhost:8080/"
        },
        "id": "wx7D0zj9TPZF",
        "outputId": "77efaf95-d3ed-481e-cef6-7eb43c73281f"
      },
      "execution_count": null,
      "outputs": [
        {
          "output_type": "stream",
          "name": "stdout",
          "text": [
            "Test Accuracy: 85.01%\n"
          ]
        }
      ]
    },
    {
      "cell_type": "code",
      "source": [
        "test_data=pd.read_csv('/content/test.csv')\n",
        "td=test_data.copy()\n",
        "test_data['accept_time']=pd.to_datetime(test_data.accept_time)\n",
        "test_data['order_time']=pd.to_datetime(test_data.order_time)\n",
        "test_data['order_date']=pd.to_datetime(test_data.order_date)\n",
        "test_data['allot_time']=pd.to_datetime(test_data.allot_time)\n",
        "test_data['accept_time']=test_data.accept_time.dt.minute+(test_data.accept_time.dt.hour*60)\n",
        "test_data['order_time']=test_data.order_time.dt.minute+(test_data.order_time.dt.hour*60)\n",
        "test_data['allot_time']=test_data.allot_time.dt.minute+(test_data.allot_time.dt.hour*60)\n",
        "test_data['order_date']=test_data.order_date.dt.dayofyear\n",
        "a=test_data['accept_time']\n",
        "b=test_data['order_time']\n",
        "c=test_data['allot_time']\n",
        "test_data['diff1']=abs(a-b)\n",
        "test_data['diff2']=abs(c-b)\n",
        "test_data['diff3']=abs(c-b)\n",
        "test_data['total_distance']=test_data['first_mile_distance']+test_data['last_mile_distance']\n",
        "test_data=test_data.drop(['accept_time','order_time','allot_time','reassigned_order','last_mile_distance','first_mile_distance','order_date','order_id','lifetime_order_count'],axis=1)\n",
        "missing_columns = test_data.loc[:,test_data.isna().mean() >= 0.25].columns\n",
        "test_data = test_data.drop(missing_columns, axis=1)\n",
        "x={column:type(test_data[column][0]) for column in test_data.columns}\n",
        "rem_col=[]\n",
        "for i in x.keys():\n",
        "  if(x[i]==type('str')):\n",
        "    rem_col.append(i)\n",
        "test_data=test_data.drop(rem_col,axis=1)\n",
        "rna = test_data.loc[:, test_data.isna().sum() > 0].columns\n",
        "for y in rna:\n",
        "  test_data[y] = test_data[y].fillna(test_data[y].mean())"
      ],
      "metadata": {
        "id": "Fj2e1w5akgzF"
      },
      "execution_count": null,
      "outputs": []
    },
    {
      "cell_type": "code",
      "source": [
        "x_train.columns"
      ],
      "metadata": {
        "colab": {
          "base_uri": "https://localhost:8080/"
        },
        "id": "SOwY4xWPZQ6Q",
        "outputId": "959e0744-f616-46db-f68d-8831738a3d94"
      },
      "execution_count": null,
      "outputs": [
        {
          "output_type": "execute_result",
          "data": {
            "text/plain": [
              "Index(['rider_id', 'alloted_orders', 'delivered_orders', 'undelivered_orders',\n",
              "       'session_time', 'diff1', 'diff2', 'diff3', 'total_distance'],\n",
              "      dtype='object')"
            ]
          },
          "metadata": {},
          "execution_count": 47
        }
      ]
    },
    {
      "cell_type": "code",
      "source": [
        "for i in x_train.columns:\n",
        "  if(i not in test_data.columns):\n",
        "    print(i)\n"
      ],
      "metadata": {
        "id": "wWLaj4vbG1su"
      },
      "execution_count": null,
      "outputs": []
    },
    {
      "cell_type": "code",
      "source": [
        "predictions=model.predict(test_data)\n",
        "submissison=td[['order_id']]\n",
        "submissison['cancelled']=predictions\n",
        "submissison"
      ],
      "metadata": {
        "colab": {
          "base_uri": "https://localhost:8080/",
          "height": 548
        },
        "id": "x9jU5cd0ozIi",
        "outputId": "50635dd9-151d-4b76-a937-d3c74ccb318a"
      },
      "execution_count": null,
      "outputs": [
        {
          "output_type": "stream",
          "name": "stderr",
          "text": [
            "/usr/local/lib/python3.7/dist-packages/ipykernel_launcher.py:3: SettingWithCopyWarning: \n",
            "A value is trying to be set on a copy of a slice from a DataFrame.\n",
            "Try using .loc[row_indexer,col_indexer] = value instead\n",
            "\n",
            "See the caveats in the documentation: https://pandas.pydata.org/pandas-docs/stable/user_guide/indexing.html#returning-a-view-versus-a-copy\n",
            "  This is separate from the ipykernel package so we can avoid doing imports until\n"
          ]
        },
        {
          "output_type": "execute_result",
          "data": {
            "text/html": [
              "\n",
              "  <div id=\"df-527d8a4f-f9a2-4895-b2ae-bfa3923fca5a\">\n",
              "    <div class=\"colab-df-container\">\n",
              "      <div>\n",
              "<style scoped>\n",
              "    .dataframe tbody tr th:only-of-type {\n",
              "        vertical-align: middle;\n",
              "    }\n",
              "\n",
              "    .dataframe tbody tr th {\n",
              "        vertical-align: top;\n",
              "    }\n",
              "\n",
              "    .dataframe thead th {\n",
              "        text-align: right;\n",
              "    }\n",
              "</style>\n",
              "<table border=\"1\" class=\"dataframe\">\n",
              "  <thead>\n",
              "    <tr style=\"text-align: right;\">\n",
              "      <th></th>\n",
              "      <th>order_id</th>\n",
              "      <th>cancelled</th>\n",
              "    </tr>\n",
              "  </thead>\n",
              "  <tbody>\n",
              "    <tr>\n",
              "      <th>0</th>\n",
              "      <td>130231</td>\n",
              "      <td>1</td>\n",
              "    </tr>\n",
              "    <tr>\n",
              "      <th>1</th>\n",
              "      <td>130232</td>\n",
              "      <td>0</td>\n",
              "    </tr>\n",
              "    <tr>\n",
              "      <th>2</th>\n",
              "      <td>130233</td>\n",
              "      <td>0</td>\n",
              "    </tr>\n",
              "    <tr>\n",
              "      <th>3</th>\n",
              "      <td>130234</td>\n",
              "      <td>0</td>\n",
              "    </tr>\n",
              "    <tr>\n",
              "      <th>4</th>\n",
              "      <td>130235</td>\n",
              "      <td>1</td>\n",
              "    </tr>\n",
              "    <tr>\n",
              "      <th>...</th>\n",
              "      <td>...</td>\n",
              "      <td>...</td>\n",
              "    </tr>\n",
              "    <tr>\n",
              "      <th>144839</th>\n",
              "      <td>41184</td>\n",
              "      <td>0</td>\n",
              "    </tr>\n",
              "    <tr>\n",
              "      <th>144840</th>\n",
              "      <td>41185</td>\n",
              "      <td>1</td>\n",
              "    </tr>\n",
              "    <tr>\n",
              "      <th>144841</th>\n",
              "      <td>41186</td>\n",
              "      <td>0</td>\n",
              "    </tr>\n",
              "    <tr>\n",
              "      <th>144842</th>\n",
              "      <td>41187</td>\n",
              "      <td>0</td>\n",
              "    </tr>\n",
              "    <tr>\n",
              "      <th>144843</th>\n",
              "      <td>41188</td>\n",
              "      <td>0</td>\n",
              "    </tr>\n",
              "  </tbody>\n",
              "</table>\n",
              "<p>144844 rows × 2 columns</p>\n",
              "</div>\n",
              "      <button class=\"colab-df-convert\" onclick=\"convertToInteractive('df-527d8a4f-f9a2-4895-b2ae-bfa3923fca5a')\"\n",
              "              title=\"Convert this dataframe to an interactive table.\"\n",
              "              style=\"display:none;\">\n",
              "        \n",
              "  <svg xmlns=\"http://www.w3.org/2000/svg\" height=\"24px\"viewBox=\"0 0 24 24\"\n",
              "       width=\"24px\">\n",
              "    <path d=\"M0 0h24v24H0V0z\" fill=\"none\"/>\n",
              "    <path d=\"M18.56 5.44l.94 2.06.94-2.06 2.06-.94-2.06-.94-.94-2.06-.94 2.06-2.06.94zm-11 1L8.5 8.5l.94-2.06 2.06-.94-2.06-.94L8.5 2.5l-.94 2.06-2.06.94zm10 10l.94 2.06.94-2.06 2.06-.94-2.06-.94-.94-2.06-.94 2.06-2.06.94z\"/><path d=\"M17.41 7.96l-1.37-1.37c-.4-.4-.92-.59-1.43-.59-.52 0-1.04.2-1.43.59L10.3 9.45l-7.72 7.72c-.78.78-.78 2.05 0 2.83L4 21.41c.39.39.9.59 1.41.59.51 0 1.02-.2 1.41-.59l7.78-7.78 2.81-2.81c.8-.78.8-2.07 0-2.86zM5.41 20L4 18.59l7.72-7.72 1.47 1.35L5.41 20z\"/>\n",
              "  </svg>\n",
              "      </button>\n",
              "      \n",
              "  <style>\n",
              "    .colab-df-container {\n",
              "      display:flex;\n",
              "      flex-wrap:wrap;\n",
              "      gap: 12px;\n",
              "    }\n",
              "\n",
              "    .colab-df-convert {\n",
              "      background-color: #E8F0FE;\n",
              "      border: none;\n",
              "      border-radius: 50%;\n",
              "      cursor: pointer;\n",
              "      display: none;\n",
              "      fill: #1967D2;\n",
              "      height: 32px;\n",
              "      padding: 0 0 0 0;\n",
              "      width: 32px;\n",
              "    }\n",
              "\n",
              "    .colab-df-convert:hover {\n",
              "      background-color: #E2EBFA;\n",
              "      box-shadow: 0px 1px 2px rgba(60, 64, 67, 0.3), 0px 1px 3px 1px rgba(60, 64, 67, 0.15);\n",
              "      fill: #174EA6;\n",
              "    }\n",
              "\n",
              "    [theme=dark] .colab-df-convert {\n",
              "      background-color: #3B4455;\n",
              "      fill: #D2E3FC;\n",
              "    }\n",
              "\n",
              "    [theme=dark] .colab-df-convert:hover {\n",
              "      background-color: #434B5C;\n",
              "      box-shadow: 0px 1px 3px 1px rgba(0, 0, 0, 0.15);\n",
              "      filter: drop-shadow(0px 1px 2px rgba(0, 0, 0, 0.3));\n",
              "      fill: #FFFFFF;\n",
              "    }\n",
              "  </style>\n",
              "\n",
              "      <script>\n",
              "        const buttonEl =\n",
              "          document.querySelector('#df-527d8a4f-f9a2-4895-b2ae-bfa3923fca5a button.colab-df-convert');\n",
              "        buttonEl.style.display =\n",
              "          google.colab.kernel.accessAllowed ? 'block' : 'none';\n",
              "\n",
              "        async function convertToInteractive(key) {\n",
              "          const element = document.querySelector('#df-527d8a4f-f9a2-4895-b2ae-bfa3923fca5a');\n",
              "          const dataTable =\n",
              "            await google.colab.kernel.invokeFunction('convertToInteractive',\n",
              "                                                     [key], {});\n",
              "          if (!dataTable) return;\n",
              "\n",
              "          const docLinkHtml = 'Like what you see? Visit the ' +\n",
              "            '<a target=\"_blank\" href=https://colab.research.google.com/notebooks/data_table.ipynb>data table notebook</a>'\n",
              "            + ' to learn more about interactive tables.';\n",
              "          element.innerHTML = '';\n",
              "          dataTable['output_type'] = 'display_data';\n",
              "          await google.colab.output.renderOutput(dataTable, element);\n",
              "          const docLink = document.createElement('div');\n",
              "          docLink.innerHTML = docLinkHtml;\n",
              "          element.appendChild(docLink);\n",
              "        }\n",
              "      </script>\n",
              "    </div>\n",
              "  </div>\n",
              "  "
            ],
            "text/plain": [
              "        order_id  cancelled\n",
              "0         130231          1\n",
              "1         130232          0\n",
              "2         130233          0\n",
              "3         130234          0\n",
              "4         130235          1\n",
              "...          ...        ...\n",
              "144839     41184          0\n",
              "144840     41185          1\n",
              "144841     41186          0\n",
              "144842     41187          0\n",
              "144843     41188          0\n",
              "\n",
              "[144844 rows x 2 columns]"
            ]
          },
          "metadata": {},
          "execution_count": 48
        }
      ]
    },
    {
      "cell_type": "code",
      "source": [
        "submissison['cancelled'].sum()"
      ],
      "metadata": {
        "colab": {
          "base_uri": "https://localhost:8080/"
        },
        "id": "5PvrNR_JW-Xz",
        "outputId": "ac711e8f-92a7-4da9-930e-632fd6cf9f7f"
      },
      "execution_count": null,
      "outputs": [
        {
          "output_type": "execute_result",
          "data": {
            "text/plain": [
              "62941"
            ]
          },
          "metadata": {},
          "execution_count": 49
        }
      ]
    },
    {
      "cell_type": "code",
      "source": [
        "submissison.to_csv(\"/content/submission21.csv\")"
      ],
      "metadata": {
        "id": "CpKF1S7qrGDb"
      },
      "execution_count": null,
      "outputs": []
    },
    {
      "cell_type": "code",
      "source": [
        "x_train.isna().sum()"
      ],
      "metadata": {
        "colab": {
          "base_uri": "https://localhost:8080/"
        },
        "id": "35OMwioWHECe",
        "outputId": "3d7db571-6081-4692-cf74-7c4f3be039bf"
      },
      "execution_count": null,
      "outputs": [
        {
          "output_type": "execute_result",
          "data": {
            "text/plain": [
              "order_date            0\n",
              "alloted_orders        0\n",
              "delivered_orders      0\n",
              "undelivered_orders    0\n",
              "session_time          0\n",
              "diff1                 0\n",
              "diff2                 0\n",
              "diff3                 0\n",
              "total_distance        0\n",
              "dtype: int64"
            ]
          },
          "metadata": {},
          "execution_count": 108
        }
      ]
    },
    {
      "cell_type": "code",
      "source": [
        "count=pd.value_counts(y_train,sort=True)\n",
        "count.plot(kind='bar',rot=0)\n"
      ],
      "metadata": {
        "colab": {
          "base_uri": "https://localhost:8080/",
          "height": 282
        },
        "id": "WhsU8Dk2IEYW",
        "outputId": "4c737ef7-6714-4a78-88d1-3cfcb578bf02"
      },
      "execution_count": null,
      "outputs": [
        {
          "output_type": "execute_result",
          "data": {
            "text/plain": [
              "<matplotlib.axes._subplots.AxesSubplot at 0x7fa2857265d0>"
            ]
          },
          "metadata": {},
          "execution_count": 54
        },
        {
          "output_type": "display_data",
          "data": {
            "image/png": "[encoded data removed]",
            "text/plain": [
              "<Figure size 432x288 with 1 Axes>"
            ]
          },
          "metadata": {
            "needs_background": "light"
          }
        }
      ]
    },
    {
      "cell_type": "code",
      "source": [
        "len(train_data['rider_id'].unique())"
      ],
      "metadata": {
        "colab": {
          "base_uri": "https://localhost:8080/"
        },
        "id": "GYBzLb0qBMI0",
        "outputId": "9d04d0e1-4ceb-4218-ba2e-ef1b3a615c1c"
      },
      "execution_count": null,
      "outputs": [
        {
          "output_type": "execute_result",
          "data": {
            "text/plain": [
              "19537"
            ]
          },
          "metadata": {},
          "execution_count": 91
        }
      ]
    }
  ]
}